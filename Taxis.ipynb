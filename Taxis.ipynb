{
 "cells": [
  {
   "cell_type": "markdown",
   "metadata": {},
   "source": [
    "# TLC\n",
    "\n",
    "## Nicolás Patalagua\n",
    "### Infraestructura para Big Data - Universidad Sergio Arboleda"
   ]
  },
  {
   "cell_type": "markdown",
   "metadata": {
    "colab_type": "text",
    "id": "OwFG6D_r_Jtq"
   },
   "source": [
    "*The New York City Taxi and Limousine Commission (TLC), created in 1971, is the agency responsible for licensing and regulating New York City's Medallion (Yellow) taxi cabs, for-hire vehicles (community-based liveries, black cars and luxury limousines), commuter vans, and paratransit vehicles. The Commission's Board consists of nine members, eight of whom are unsalaried Commissioners. The salaried Chair/ Commissioner presides over regularly scheduled public commission meetings and is the head of the agency, which maintains a staff of approximately 600 TLC employees.*\n",
    "\n",
    "*Over 200,000 TLC licensees complete approximately 1,000,000 trips each day. To operate for hire, drivers must first undergo a background check, have a safe driving record, and complete 24 hours of driver training. TLC-licensed vehicles are inspected for safety and emissions at TLC's Woodside Inspection Facility.\n",
    "\n",
    "More info: https://www1.nyc.gov/site/tlc/about/about-tlc.page"
   ]
  },
  {
   "cell_type": "code",
   "execution_count": 12,
   "metadata": {
    "colab": {},
    "colab_type": "code",
    "id": "Nn1JFps4xprv"
   },
   "outputs": [],
   "source": [
    "from pyspark.sql import SparkSession\n",
    "from pyspark.sql import functions as F\n",
    "spark = SparkSession.builder.master(\"local\").getOrCreate()"
   ]
  },
  {
   "cell_type": "code",
   "execution_count": 10,
   "metadata": {
    "colab": {
     "base_uri": "https://localhost:8080/",
     "height": 239
    },
    "colab_type": "code",
    "id": "UbRSMRXDxyXV",
    "outputId": "14e36a1b-824a-44d2-b72b-42e2379eb64f"
   },
   "outputs": [],
   "source": [
    "ObjTaxi=spark.read.csv(\"Taxis.csv\",header=True)"
   ]
  },
  {
   "cell_type": "code",
   "execution_count": 22,
   "metadata": {
    "colab": {
     "base_uri": "https://localhost:8080/",
     "height": 219
    },
    "colab_type": "code",
    "id": "DrbCaES_7am3",
    "outputId": "6e08d0bf-12ac-4fd7-c2bd-cae566301675"
   },
   "outputs": [],
   "source": [
    "ObjZone=spark.read.csv(\"Zone.csv\",header=True)"
   ]
  },
  {
   "cell_type": "markdown",
   "metadata": {
    "colab_type": "text",
    "id": "7fbyId705yac"
   },
   "source": [
    "#### Formas de Pago"
   ]
  },
  {
   "cell_type": "code",
   "execution_count": 6,
   "metadata": {
    "colab": {
     "base_uri": "https://localhost:8080/",
     "height": 182
    },
    "colab_type": "code",
    "id": "G6UWJRTBxyRj",
    "outputId": "53eb306e-ce51-4703-f5e9-3a4860279347"
   },
   "outputs": [
    {
     "name": "stdout",
     "output_type": "stream",
     "text": [
      "+------------+\n",
      "|payment_type|\n",
      "+------------+\n",
      "|           3|\n",
      "|           1|\n",
      "|           4|\n",
      "|           2|\n",
      "+------------+\n",
      "\n"
     ]
    }
   ],
   "source": [
    "ObjTaxi20= ObjTaxi.select('payment_type').distinct().show()"
   ]
  },
  {
   "cell_type": "markdown",
   "metadata": {
    "colab_type": "text",
    "id": "AAeTCidf59sT"
   },
   "source": [
    "#### Taxi con mayor número de viajes"
   ]
  },
  {
   "cell_type": "code",
   "execution_count": 7,
   "metadata": {
    "colab": {
     "base_uri": "https://localhost:8080/",
     "height": 146
    },
    "colab_type": "code",
    "id": "Mu8Xoz1Q64uP",
    "outputId": "6a6e9529-6284-4485-d01b-ca1f66abb906"
   },
   "outputs": [
    {
     "name": "stdout",
     "output_type": "stream",
     "text": [
      "+--------+---------------+\n",
      "|VendorID|max(viajes_max)|\n",
      "+--------+---------------+\n",
      "|       4|        4382892|\n",
      "+--------+---------------+\n",
      "\n"
     ]
    }
   ],
   "source": [
    "ObjTaxi30=ObjTaxi.groupBy(\"VendorID\").agg(F.count(\"VendorID\").alias(\"viajes_max\"))\n",
    "ObjTaxi31=ObjTaxi30.select(\"VendorID\",\"viajes_max\").agg(F.max(\"VendorID\").alias(\"VendorID\"), F.max(\"viajes_max\"))\n",
    "ObjTaxi31.show()"
   ]
  },
  {
   "cell_type": "markdown",
   "metadata": {
    "colab_type": "text",
    "id": "DWQ38IwK5w2w"
   },
   "source": [
    "#### Número de viajes por dia en el mes de junio de 2019"
   ]
  },
  {
   "cell_type": "code",
   "execution_count": 8,
   "metadata": {
    "colab": {
     "base_uri": "https://localhost:8080/",
     "height": 421
    },
    "colab_type": "code",
    "id": "xXF-vbVU7Qyn",
    "outputId": "ff3d85ca-59da-45b7-c45a-ba6ffce91fd3"
   },
   "outputs": [
    {
     "name": "stdout",
     "output_type": "stream",
     "text": [
      "+--------------------+----------+\n",
      "|tpep_pickup_datetime|max pickup|\n",
      "+--------------------+----------+\n",
      "| 2019-06-01 00:29:17|         3|\n",
      "| 2019-06-01 00:07:12|         1|\n",
      "| 2019-06-01 00:52:54|         5|\n",
      "| 2019-06-01 00:08:46|         3|\n",
      "| 2019-06-01 00:40:46|         1|\n",
      "+--------------------+----------+\n",
      "only showing top 5 rows\n",
      "\n",
      "+---------------------+-----------+\n",
      "|tpep_dropoff_datetime|max dropoff|\n",
      "+---------------------+-----------+\n",
      "|  2019-06-01 00:22:34|          2|\n",
      "|  2019-06-01 00:57:29|          4|\n",
      "|  2019-06-01 01:03:00|          5|\n",
      "|  2019-06-01 00:05:36|          1|\n",
      "|  2019-06-01 00:29:17|          4|\n",
      "+---------------------+-----------+\n",
      "only showing top 5 rows\n",
      "\n"
     ]
    }
   ],
   "source": [
    "ObjTaxi40 = ObjTaxi.groupBy(\"tpep_pickup_datetime\").agg(F.count(\"tpep_pickup_datetime\").alias(\"max pickup\"))\n",
    "ObjTaxi41 = ObjTaxi.groupBy(\"tpep_dropoff_datetime\").agg(F.count(\"tpep_dropoff_datetime\").alias(\"max dropoff\"))\n",
    "ObjTaxi40.show(5)\n",
    "ObjTaxi41.show(5)"
   ]
  },
  {
   "cell_type": "markdown",
   "metadata": {
    "colab_type": "text",
    "id": "kcSZNIOV6mP9"
   },
   "source": [
    "#### Área donde se recoge mayor número de pasajeros"
   ]
  },
  {
   "cell_type": "code",
   "execution_count": 9,
   "metadata": {
    "colab": {
     "base_uri": "https://localhost:8080/",
     "height": 127
    },
    "colab_type": "code",
    "id": "MMSYs-H-8ZEn",
    "outputId": "fd2ba22e-0e9f-445e-b473-21652b25070c"
   },
   "outputs": [
    {
     "name": "stdout",
     "output_type": "stream",
     "text": [
      "+--------------+------------+\n",
      "|          zone|max(max_pas)|\n",
      "+--------------+------------+\n",
      "|Yorkville West|           3|\n",
      "+--------------+------------+\n",
      "\n"
     ]
    }
   ],
   "source": [
    "ObjZone50 = ObjZone.groupBy(\"Zone\").agg(F.count(\"Zone\").alias(\"max_pas\"))\n",
    "ObjZone51 = ObjZone50.select(\"Zone\",\"max_pas\").agg(F.max(\"Zone\").alias(\"zone\"), F.max(\"max_pas\"))\n",
    "ObjZone51.show()"
   ]
  },
  {
   "cell_type": "markdown",
   "metadata": {
    "colab_type": "text",
    "id": "LEqIALxv6pkh"
   },
   "source": [
    "#### Número de viajes que se dirigieron al “Bronx”"
   ]
  },
  {
   "cell_type": "code",
   "execution_count": 13,
   "metadata": {},
   "outputs": [
    {
     "name": "stdout",
     "output_type": "stream",
     "text": [
      "+-------+---------+\n",
      "|Borough|num_trips|\n",
      "+-------+---------+\n",
      "|  Bronx|       43|\n",
      "+-------+---------+\n",
      "\n"
     ]
    }
   ],
   "source": [
    "ObjZone60 = ObjZone.where(\"`Borough` like 'Bronx%'\").select(\"Borough\", \"LocationID\")\n",
    "ObjZone61 = ObjZone60.groupBy(\"Borough\").agg(F.count(\"Borough\").alias(\"num_trips\"))\n",
    "ObjZone61.show()"
   ]
  },
  {
   "cell_type": "markdown",
   "metadata": {
    "colab_type": "text",
    "id": "PbmDeUyr6pPS"
   },
   "source": [
    "#### Número promedio de personas por viaje que se dirigen al aeropuerto JFK"
   ]
  },
  {
   "cell_type": "code",
   "execution_count": 24,
   "metadata": {},
   "outputs": [
    {
     "name": "stdout",
     "output_type": "stream",
     "text": [
      "+-----------+------------------+\n",
      "|       Zone|         prom_pass|\n",
      "+-----------+------------------+\n",
      "|JFK Airport|1.6908959629637494|\n",
      "+-----------+------------------+\n",
      "\n"
     ]
    }
   ],
   "source": [
    "ObjZone70=ObjZone.where(\"`Zone` like 'JFK_Airport%'\").select(\"service_zone\", \"LocationID\",\"Borough\",\"Zone\")\n",
    "ObjTaxiZone70=ObjTaxi.join(ObjZone70, ObjTaxi.PULocationID == ObjZone70.LocationID)\n",
    "ObjTaxiZone71=ObjTaxiZone70.groupby(\"Zone\").agg(F.avg(\"VendorID\").alias(\"prom_pass\"))\n",
    "ObjTaxiZone71.show()"
   ]
  },
  {
   "cell_type": "markdown",
   "metadata": {
    "colab_type": "text",
    "id": "m2-b3QZi6pGe"
   },
   "source": [
    "#### Distancia y Costo promedio de tomar un taxi del Aeropuerto JFK a Manhattan Valley"
   ]
  },
  {
   "cell_type": "code",
   "execution_count": 27,
   "metadata": {},
   "outputs": [
    {
     "name": "stdout",
     "output_type": "stream",
     "text": [
      "+-----------+------------------+-----------------+\n",
      "|       Zone|avg(trip_distance)| avg(fare_amount)|\n",
      "+-----------+------------------+-----------------+\n",
      "|JFK Airport| 20.18786912751678|52.09825503355705|\n",
      "+-----------+------------------+-----------------+\n",
      "\n"
     ]
    }
   ],
   "source": [
    "ObjZone80=ObjZone.where(\"`Zone` like 'JFK_Airport%'\").select(\"service_zone\", \"LocationID\",\"Borough\",\"Zone\")\n",
    "ObjZone81=ObjZone.where(\"`Zone` like 'Manhattan_Valley%'\").select(\"service_zone\", \"LocationID\",\"Borough\",\"Zone\")\n",
    "ObjTaxiZone80=ObjTaxi.join(ObjZone80, ObjTaxi.PULocationID == ObjZone80.LocationID)\n",
    "ObjTaxiZone81=ObjTaxiZone80.where(\"`DOLocationID` like '151%'\").select(\"Zone\", \"trip_distance\",\"fare_amount\",\"PULocationID\",\"DOLocationID\")\n",
    "ObjTaxiZone82=ObjTaxiZone81.groupBy(\"Zone\").agg(F.avg(\"trip_distance\"),F.avg(\"fare_amount\"))\n",
    "ObjTaxiZone82.show()"
   ]
  },
  {
   "cell_type": "markdown",
   "metadata": {
    "colab_type": "text",
    "id": "NgLhsm_26o5R"
   },
   "source": [
    "#### Recorrido más frencuente (entre qué zona y qué zona)"
   ]
  },
  {
   "cell_type": "code",
   "execution_count": 26,
   "metadata": {},
   "outputs": [
    {
     "name": "stdout",
     "output_type": "stream",
     "text": [
      "+---------------+--------------+\n",
      "|max(max_viajes)|          Zona|\n",
      "+---------------+--------------+\n",
      "|          47368|Yorkville West|\n",
      "+---------------+--------------+\n",
      "\n"
     ]
    }
   ],
   "source": [
    "ObjTaxiZone90= ObjTaxi.join(ObjZone, ObjTaxi.PULocationID == ObjZone.LocationID)\n",
    "ObjTaxiZone91= ObjTaxiZone90.groupBy(\"Zone\",\"PULocationID\",\"DOLocationID\").agg(F.count(\"trip_distance\").alias(\"num_viajes\"))\n",
    "ObjTaxiZone92= ObjTaxiZone91.groupBy(\"Zone\",\"PULocationID\",\"DOLocationID\").agg(F.max(\"num_viajes\").alias(\"max_viajes\"))\n",
    "ObjTaxiZone93= ObjTaxiZone92.select('Zone','max_viajes').agg(F.max(\"max_viajes\"), F.max(\"zone\").alias(\"Zona\"))\n",
    "ObjTaxiZone93.show()"
   ]
  }
 ],
 "metadata": {
  "colab": {
   "name": "Taxis.ipynb",
   "provenance": []
  },
  "kernelspec": {
   "display_name": "Python 3",
   "language": "python",
   "name": "python3"
  },
  "language_info": {
   "codemirror_mode": {
    "name": "ipython",
    "version": 3
   },
   "file_extension": ".py",
   "mimetype": "text/x-python",
   "name": "python",
   "nbconvert_exporter": "python",
   "pygments_lexer": "ipython3",
   "version": "3.6.9"
  }
 },
 "nbformat": 4,
 "nbformat_minor": 1
}
