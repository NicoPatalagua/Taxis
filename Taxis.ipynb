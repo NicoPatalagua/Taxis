{
  "nbformat": 4,
  "nbformat_minor": 0,
  "metadata": {
    "colab": {
      "name": "Taxis.ipynb",
      "provenance": [],
      "toc_visible": true,
      "include_colab_link": true
    },
    "kernelspec": {
      "display_name": "Python 3",
      "language": "python",
      "name": "python3"
    },
    "language_info": {
      "codemirror_mode": {
        "name": "ipython",
        "version": 3
      },
      "file_extension": ".py",
      "mimetype": "text/x-python",
      "name": "python",
      "nbconvert_exporter": "python",
      "pygments_lexer": "ipython3",
      "version": "3.6.9"
    }
  },
  "cells": [
    {
      "cell_type": "markdown",
      "metadata": {
        "id": "view-in-github",
        "colab_type": "text"
      },
      "source": [
        "<a href=\"https://colab.research.google.com/github/NicoPatalagua/Taxis/blob/master/Taxis.ipynb\" target=\"_parent\"><img src=\"https://colab.research.google.com/assets/colab-badge.svg\" alt=\"Open In Colab\"/></a>"
      ]
    },
    {
      "cell_type": "markdown",
      "metadata": {
        "id": "3zDgdyxZ10TC",
        "colab_type": "text"
      },
      "source": [
        "# TLC\n",
        "\n",
        "## Nicolás Patalagua\n",
        "### Infraestructura para Big Data - Universidad Sergio Arboleda"
      ]
    },
    {
      "cell_type": "markdown",
      "metadata": {
        "colab_type": "text",
        "id": "OwFG6D_r_Jtq"
      },
      "source": [
        "*The New York City Taxi and Limousine Commission (TLC), created in 1971, is the agency responsible for licensing and regulating New York City's Medallion (Yellow) taxi cabs, for-hire vehicles (community-based liveries, black cars and luxury limousines), commuter vans, and paratransit vehicles. The Commission's Board consists of nine members, eight of whom are unsalaried Commissioners. The salaried Chair/ Commissioner presides over regularly scheduled public commission meetings and is the head of the agency, which maintains a staff of approximately 600 TLC employees.*\n",
        "\n",
        "*Over 200,000 TLC licensees complete approximately 1,000,000 trips each day. To operate for hire, drivers must first undergo a background check, have a safe driving record, and complete 24 hours of driver training. TLC-licensed vehicles are inspected for safety and emissions at TLC's Woodside Inspection Facility.\n",
        "\n",
        "More info: https://www1.nyc.gov/site/tlc/about/about-tlc.page"
      ]
    },
    {
      "cell_type": "markdown",
      "metadata": {
        "id": "SN5R3Bt44rRX",
        "colab_type": "text"
      },
      "source": [
        "Descargar el dataset de taxis de NYC para el mes de junio: https://nyc-tlc.s3.amazonaws.com/trip+data/yellow_tripdata_2019-06.csv\n",
        "\n",
        "Descargar archivo de zonas: \n",
        "https://nyc-tlc.s3.amazonaws.com/misc/taxi+_zone_lookup.csv"
      ]
    },
    {
      "cell_type": "code",
      "metadata": {
        "id": "I7NHsndP2Zpr",
        "colab_type": "code",
        "colab": {
          "base_uri": "https://localhost:8080/",
          "height": 69
        },
        "outputId": "22bf8c20-ffa6-4d39-c9e8-04f6d730e9f2"
      },
      "source": [
        "!apt-get install openjdk-8-jdk-headless -qq > /dev/null\n",
        "!wget -q http://apache.osuosl.org/spark/spark-2.4.5/spark-2.4.5-bin-hadoop2.7.tgz\n",
        "!tar xf spark-2.4.5-bin-hadoop2.7.tgz\n",
        "!pip install -q findspark\n",
        "!pip install pyspark\n",
        "import os\n",
        "import time \n",
        "os.environ[\"JAVA_HOME\"] = \"/usr/lib/jvm/java-8-openjdk-amd64\"\n",
        "os.environ[\"SPARK_HOME\"] = \"/content/spark-2.4.5-bin-hadoop2.7\"\n",
        "\n",
        "from google.colab import drive\n",
        "drive.mount('/content/gdrive')\n",
        "from pyspark import SparkConf, SparkContext\n",
        "conf = SparkConf().setAppName(\"app\")\n",
        "sc = SparkContext.getOrCreate();"
      ],
      "execution_count": 86,
      "outputs": [
        {
          "output_type": "stream",
          "text": [
            "Requirement already satisfied: pyspark in /usr/local/lib/python3.6/dist-packages (2.4.5)\n",
            "Requirement already satisfied: py4j==0.10.7 in /usr/local/lib/python3.6/dist-packages (from pyspark) (0.10.7)\n",
            "Drive already mounted at /content/gdrive; to attempt to forcibly remount, call drive.mount(\"/content/gdrive\", force_remount=True).\n"
          ],
          "name": "stdout"
        }
      ]
    },
    {
      "cell_type": "code",
      "metadata": {
        "colab_type": "code",
        "id": "Nn1JFps4xprv",
        "colab": {}
      },
      "source": [
        "from pyspark.sql import SparkSession\n",
        "from pyspark.sql import functions as F\n",
        "spark = SparkSession.builder.master(\"local\").getOrCreate()"
      ],
      "execution_count": 0,
      "outputs": []
    },
    {
      "cell_type": "code",
      "metadata": {
        "colab_type": "code",
        "id": "UbRSMRXDxyXV",
        "colab": {}
      },
      "source": [
        "ObjTaxi=spark.read.csv(\"Taxis.csv\",header=True)"
      ],
      "execution_count": 0,
      "outputs": []
    },
    {
      "cell_type": "code",
      "metadata": {
        "colab_type": "code",
        "id": "DrbCaES_7am3",
        "colab": {}
      },
      "source": [
        "ObjZone=spark.read.csv(\"Zone.csv\",header=True)"
      ],
      "execution_count": 0,
      "outputs": []
    },
    {
      "cell_type": "markdown",
      "metadata": {
        "id": "svf6Hnog3oI0",
        "colab_type": "text"
      },
      "source": [
        "### **Distancia Promedio de un recorrido en Taxi NYC**"
      ]
    },
    {
      "cell_type": "code",
      "metadata": {
        "id": "wXKcuNRD3rd0",
        "colab_type": "code",
        "colab": {
          "base_uri": "https://localhost:8080/",
          "height": 121
        },
        "outputId": "e4a00ab6-a319-4ea8-9673-c68c8f0a5a6c"
      },
      "source": [
        "ObjTaxi.select(F.avg(\"trip_distance\")).show()"
      ],
      "execution_count": 94,
      "outputs": [
        {
          "output_type": "stream",
          "text": [
            "+------------------+\n",
            "|avg(trip_distance)|\n",
            "+------------------+\n",
            "|3.0785054986122415|\n",
            "+------------------+\n",
            "\n"
          ],
          "name": "stdout"
        }
      ]
    },
    {
      "cell_type": "markdown",
      "metadata": {
        "colab_type": "text",
        "id": "7fbyId705yac"
      },
      "source": [
        "#### **Formas de Pago**"
      ]
    },
    {
      "cell_type": "code",
      "metadata": {
        "colab_type": "code",
        "id": "G6UWJRTBxyRj",
        "outputId": "7fe9967b-e509-40fa-a1fa-c704bfcc0a38",
        "colab": {
          "base_uri": "https://localhost:8080/",
          "height": 173
        }
      },
      "source": [
        "ObjTaxi20= ObjTaxi.select('payment_type').distinct().show()"
      ],
      "execution_count": 96,
      "outputs": [
        {
          "output_type": "stream",
          "text": [
            "+------------+\n",
            "|payment_type|\n",
            "+------------+\n",
            "|           3|\n",
            "|           1|\n",
            "|           4|\n",
            "|           2|\n",
            "+------------+\n",
            "\n"
          ],
          "name": "stdout"
        }
      ]
    },
    {
      "cell_type": "markdown",
      "metadata": {
        "colab_type": "text",
        "id": "AAeTCidf59sT"
      },
      "source": [
        "#### **Taxi con mayor número de viajes**"
      ]
    },
    {
      "cell_type": "code",
      "metadata": {
        "colab_type": "code",
        "id": "Mu8Xoz1Q64uP",
        "outputId": "9b6e4a3b-0afc-426e-c8b3-574d2da7530c",
        "colab": {
          "base_uri": "https://localhost:8080/",
          "height": 121
        }
      },
      "source": [
        "ObjTaxi30=ObjTaxi.groupBy(\"VendorID\").agg(F.count(\"VendorID\").alias(\"Max_trips\"))\n",
        "ObjTaxi31=ObjTaxi30.select(\"VendorID\",\"Max_trips\").agg(F.max(\"VendorID\").alias(\"VendorID\"), F.max(\"Max_trips\"))\n",
        "ObjTaxi31.show()"
      ],
      "execution_count": 97,
      "outputs": [
        {
          "output_type": "stream",
          "text": [
            "+--------+--------------+\n",
            "|VendorID|max(Max_trips)|\n",
            "+--------+--------------+\n",
            "|       4|       4382892|\n",
            "+--------+--------------+\n",
            "\n"
          ],
          "name": "stdout"
        }
      ]
    },
    {
      "cell_type": "markdown",
      "metadata": {
        "colab_type": "text",
        "id": "DWQ38IwK5w2w"
      },
      "source": [
        "#### **Número de viajes por dia en el mes de junio de 2019**"
      ]
    },
    {
      "cell_type": "code",
      "metadata": {
        "colab_type": "code",
        "id": "xXF-vbVU7Qyn",
        "outputId": "455a595d-c7b7-4c02-f68a-3a2067ca9169",
        "colab": {
          "base_uri": "https://localhost:8080/",
          "height": 399
        }
      },
      "source": [
        "ObjTaxi40 = ObjTaxi.groupBy(\"tpep_pickup_datetime\").agg(F.count(\"tpep_pickup_datetime\").alias(\"Max (pickup)\"))\n",
        "ObjTaxi41 = ObjTaxi.groupBy(\"tpep_dropoff_datetime\").agg(F.count(\"tpep_dropoff_datetime\").alias(\"Max (dropoff)\"))\n",
        "ObjTaxi40.show(5)\n",
        "ObjTaxi41.show(5)"
      ],
      "execution_count": 98,
      "outputs": [
        {
          "output_type": "stream",
          "text": [
            "+--------------------+------------+\n",
            "|tpep_pickup_datetime|Max (pickup)|\n",
            "+--------------------+------------+\n",
            "| 2019-06-01 00:29:17|           3|\n",
            "| 2019-06-01 00:07:12|           1|\n",
            "| 2019-06-01 00:52:54|           5|\n",
            "| 2019-06-01 00:08:46|           3|\n",
            "| 2019-06-01 00:40:46|           1|\n",
            "+--------------------+------------+\n",
            "only showing top 5 rows\n",
            "\n",
            "+---------------------+-------------+\n",
            "|tpep_dropoff_datetime|Max (dropoff)|\n",
            "+---------------------+-------------+\n",
            "|  2019-06-01 00:22:34|            2|\n",
            "|  2019-06-01 00:57:29|            4|\n",
            "|  2019-06-01 01:03:00|            5|\n",
            "|  2019-06-01 00:05:36|            1|\n",
            "|  2019-06-01 00:29:17|            4|\n",
            "+---------------------+-------------+\n",
            "only showing top 5 rows\n",
            "\n"
          ],
          "name": "stdout"
        }
      ]
    },
    {
      "cell_type": "markdown",
      "metadata": {
        "colab_type": "text",
        "id": "kcSZNIOV6mP9"
      },
      "source": [
        "#### **Área donde se recoge mayor número de pasajeros**"
      ]
    },
    {
      "cell_type": "code",
      "metadata": {
        "colab_type": "code",
        "id": "MMSYs-H-8ZEn",
        "outputId": "e644dc24-65f3-4769-c2b3-684ed594e788",
        "colab": {
          "base_uri": "https://localhost:8080/",
          "height": 121
        }
      },
      "source": [
        "ObjZone50 = ObjZone.groupBy(\"Zone\").agg(F.count(\"Zone\").alias(\"Pass\"))\n",
        "ObjZone51 = ObjZone50.select(\"Zone\",\"Pass\").agg(F.max(\"Zone\").alias(\"Zone\"), F.max(\"Pass\"))\n",
        "ObjZone51.show()"
      ],
      "execution_count": 100,
      "outputs": [
        {
          "output_type": "stream",
          "text": [
            "+--------------+---------+\n",
            "|          Zone|max(Pass)|\n",
            "+--------------+---------+\n",
            "|Yorkville West|        3|\n",
            "+--------------+---------+\n",
            "\n"
          ],
          "name": "stdout"
        }
      ]
    },
    {
      "cell_type": "markdown",
      "metadata": {
        "colab_type": "text",
        "id": "LEqIALxv6pkh"
      },
      "source": [
        "#### **Número de viajes que se dirigieron al “Bronx”**"
      ]
    },
    {
      "cell_type": "code",
      "metadata": {
        "id": "nV9m78QD10Ve",
        "colab_type": "code",
        "colab": {
          "base_uri": "https://localhost:8080/",
          "height": 121
        },
        "outputId": "d90fd487-c1a2-426e-d186-466df2e1ba7b"
      },
      "source": [
        "ObjZone60 = ObjZone.where(\"`Borough` like 'Bronx%'\").select(\"Borough\", \"LocationID\")\n",
        "ObjZone61 = ObjZone60.groupBy(\"Borough\").agg(F.count(\"Borough\").alias(\"Trips\"))\n",
        "ObjZone61.show()"
      ],
      "execution_count": 101,
      "outputs": [
        {
          "output_type": "stream",
          "text": [
            "+-------+-----+\n",
            "|Borough|Trips|\n",
            "+-------+-----+\n",
            "|  Bronx|   43|\n",
            "+-------+-----+\n",
            "\n"
          ],
          "name": "stdout"
        }
      ]
    },
    {
      "cell_type": "markdown",
      "metadata": {
        "colab_type": "text",
        "id": "PbmDeUyr6pPS"
      },
      "source": [
        "#### **Número promedio de personas por viaje que se dirigen al aeropuerto JFK**"
      ]
    },
    {
      "cell_type": "code",
      "metadata": {
        "id": "ikVXBsdX10Vt",
        "colab_type": "code",
        "colab": {
          "base_uri": "https://localhost:8080/",
          "height": 121
        },
        "outputId": "c81b7990-6f52-42e6-e309-67eeb2082ba2"
      },
      "source": [
        "ObjZone70=ObjZone.where(\"`Zone` like 'JFK_Airport%'\").select(\"service_zone\", \"LocationID\",\"Borough\",\"Zone\")\n",
        "ObjTaxiZone70=ObjTaxi.join(ObjZone70, ObjTaxi.PULocationID == ObjZone70.LocationID)\n",
        "ObjTaxiZone71=ObjTaxiZone70.groupby(\"Zone\").agg(F.avg(\"VendorID\").alias(\"Avg_Pass\"))\n",
        "ObjTaxiZone71.show()"
      ],
      "execution_count": 102,
      "outputs": [
        {
          "output_type": "stream",
          "text": [
            "+-----------+------------------+\n",
            "|       Zone|          Avg_Pass|\n",
            "+-----------+------------------+\n",
            "|JFK Airport|1.6908959629637494|\n",
            "+-----------+------------------+\n",
            "\n"
          ],
          "name": "stdout"
        }
      ]
    },
    {
      "cell_type": "markdown",
      "metadata": {
        "colab_type": "text",
        "id": "m2-b3QZi6pGe"
      },
      "source": [
        "#### **Distancia y Costo promedio de tomar un taxi del Aeropuerto JFK a Manhattan Valley**"
      ]
    },
    {
      "cell_type": "code",
      "metadata": {
        "id": "mbGCXi_P10WF",
        "colab_type": "code",
        "colab": {
          "base_uri": "https://localhost:8080/",
          "height": 121
        },
        "outputId": "38b83ac1-de37-4a19-c76a-e80f870a1733"
      },
      "source": [
        "ObjZone80=ObjZone.where(\"`Zone` like 'JFK_Airport%'\").select(\"service_zone\", \"LocationID\",\"Borough\",\"Zone\")\n",
        "ObjZone81=ObjZone.where(\"`Zone` like 'Manhattan_Valley%'\").select(\"service_zone\", \"LocationID\",\"Borough\",\"Zone\")\n",
        "ObjTaxiZone80=ObjTaxi.join(ObjZone80, ObjTaxi.PULocationID == ObjZone80.LocationID)\n",
        "ObjTaxiZone81=ObjTaxiZone80.where(\"`DOLocationID` like '151%'\").select(\"Zone\", \"trip_distance\",\"fare_amount\",\"PULocationID\",\"DOLocationID\")\n",
        "ObjTaxiZone82=ObjTaxiZone81.groupBy(\"Zone\").agg(F.avg(\"Trip_distance\"),F.avg(\"Fare_amount\"))\n",
        "ObjTaxiZone82.show()"
      ],
      "execution_count": 103,
      "outputs": [
        {
          "output_type": "stream",
          "text": [
            "+-----------+------------------+-----------------+\n",
            "|       Zone|avg(Trip_distance)| avg(Fare_amount)|\n",
            "+-----------+------------------+-----------------+\n",
            "|JFK Airport| 20.18786912751678|52.09825503355705|\n",
            "+-----------+------------------+-----------------+\n",
            "\n"
          ],
          "name": "stdout"
        }
      ]
    },
    {
      "cell_type": "markdown",
      "metadata": {
        "colab_type": "text",
        "id": "NgLhsm_26o5R"
      },
      "source": [
        "#### **Recorrido más frencuente (entre qué zona y qué zona)**"
      ]
    },
    {
      "cell_type": "code",
      "metadata": {
        "id": "fbgynyXd10WP",
        "colab_type": "code",
        "colab": {
          "base_uri": "https://localhost:8080/",
          "height": 121
        },
        "outputId": "e758df58-b5aa-44a7-e656-3ecd4c521a75"
      },
      "source": [
        "ObjTaxiZone90= ObjTaxi.join(ObjZone, ObjTaxi.PULocationID == ObjZone.LocationID)\n",
        "ObjTaxiZone91= ObjTaxiZone90.groupBy(\"Zone\",\"PULocationID\",\"DOLocationID\").agg(F.count(\"trip_distance\").alias(\"num_trips\"))\n",
        "ObjTaxiZone92= ObjTaxiZone91.groupBy(\"Zone\",\"PULocationID\",\"DOLocationID\").agg(F.max(\"num_trips\").alias(\"max_trips\"))\n",
        "ObjTaxiZone93= ObjTaxiZone92.select('Zone','max_trips').agg(F.max(\"max_trips\").alias(\"Trips\"), F.max(\"zone\").alias(\"Zone\"))\n",
        "ObjTaxiZone93.show()"
      ],
      "execution_count": 104,
      "outputs": [
        {
          "output_type": "stream",
          "text": [
            "+-----+--------------+\n",
            "|Trips|          Zone|\n",
            "+-----+--------------+\n",
            "|47368|Yorkville West|\n",
            "+-----+--------------+\n",
            "\n"
          ],
          "name": "stdout"
        }
      ]
    },
    {
      "cell_type": "markdown",
      "metadata": {
        "id": "-vepIYMw6edB",
        "colab_type": "text"
      },
      "source": [
        "### **Tiempo Promedio de un viaje**"
      ]
    },
    {
      "cell_type": "code",
      "metadata": {
        "id": "MUVvh0l96vf4",
        "colab_type": "code",
        "colab": {
          "base_uri": "https://localhost:8080/",
          "height": 34
        },
        "outputId": "0c3ce621-9576-4af1-8652-c7df154a22e4"
      },
      "source": [
        "ObjTime=ObjTaxi.select((F.unix_timestamp('tpep_dropoff_datetime')-F.unix_timestamp('tpep_pickup_datetime')).alias('Time'))\n",
        "ObjTime1 =ObjTime.select(F.avg('Time').alias('avg')).first()['avg']\n",
        "ObjTime2=time.strftime('%H:%M:%S', time.gmtime(int(ObjTime1))) \n",
        "print('Avr_Time_Trip: '+ObjTime2)"
      ],
      "execution_count": 112,
      "outputs": [
        {
          "output_type": "stream",
          "text": [
            "Avr_Time_Trip: 00:18:42\n"
          ],
          "name": "stdout"
        }
      ]
    }
  ]
}